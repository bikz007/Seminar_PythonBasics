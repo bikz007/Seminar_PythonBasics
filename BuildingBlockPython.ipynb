{
 "cells": [
  {
   "cell_type": "markdown",
   "metadata": {},
   "source": [
    "# Building blocks of Python programming"
   ]
  },
  {
   "cell_type": "markdown",
   "metadata": {},
   "source": [
    "### Some of the building blocks of Python programming language include:\n",
    "\n",
    "* Objects – 'Everything is an object in Python.'\n",
    "\n",
    "    Using objects is almost in every instance when programming with python programming language. This includes the use of integers, floats, strings etc.\n",
    "     All the objects used above have reference.\n",
    "     \n",
    "    \n",
    "* References - The variables in Python programming language are associated with references\n",
    "\n",
    "    \n",
    "* Fundamental Types - Python has some fundamental types - boolean, int, float, string, list, dictionary, set, tuple\n",
    "\n",
    "    \n",
    "* Names have scope, objects don’t. Objects only ‘disappear’ if nothing references them. Objects are kept if references still exist to them, regardless of which scope the reference exists in.\n",
    "\n",
    "\n",
    "* Containers hold references to objects - not the objects themselves . Containers can hold other containers . Examples of containers include **tuple, list, set, dict**; these are the built-in containers. More container types are available in the collections module.\n",
    "\n",
    "    \n",
    "* Python has a few control structures : for, if, while\n",
    "\n",
    "\n",
    "* Python has functions : def <name>(<arguments>)\n",
    "    \n",
    "\n",
    "* Python has classes with inheritance and multiple inheritance: class<name>( <subclasses>)\n",
    "    \n",
    "    \n",
    "* Python has modules (source files which can be imported which then extends the functionality available to a given program), and packages (groups of modules). Modules can define variables, functions and classes in any combination.\n"
   ]
  },
  {
   "cell_type": "code",
   "execution_count": 8,
   "metadata": {},
   "outputs": [],
   "source": [
    "# We assign an integer value\n",
    "i=99"
   ]
  },
  {
   "cell_type": "code",
   "execution_count": 9,
   "metadata": {},
   "outputs": [
    {
     "data": {
      "text/plain": [
       "int"
      ]
     },
     "execution_count": 9,
     "metadata": {},
     "output_type": "execute_result"
    }
   ],
   "source": [
    "# checking what type of object is i\n",
    "type(i)"
   ]
  },
  {
   "cell_type": "code",
   "execution_count": 10,
   "metadata": {},
   "outputs": [
    {
     "data": {
      "text/plain": [
       "10922560"
      ]
     },
     "execution_count": 10,
     "metadata": {},
     "output_type": "execute_result"
    }
   ],
   "source": [
    "id(i)"
   ]
  },
  {
   "cell_type": "code",
   "execution_count": 11,
   "metadata": {},
   "outputs": [
    {
     "data": {
      "text/plain": [
       "140611463627824"
      ]
     },
     "execution_count": 11,
     "metadata": {},
     "output_type": "execute_result"
    }
   ],
   "source": [
    "i=\"Im a string\"\n",
    "id(i)"
   ]
  },
  {
   "cell_type": "markdown",
   "metadata": {},
   "source": [
    "<img src=\"images/variable-reassignment.jpg\">"
   ]
  },
  {
   "cell_type": "code",
   "execution_count": 12,
   "metadata": {},
   "outputs": [],
   "source": [
    "i=int(10)"
   ]
  },
  {
   "cell_type": "code",
   "execution_count": 13,
   "metadata": {},
   "outputs": [
    {
     "data": {
      "text/plain": [
       "10"
      ]
     },
     "execution_count": 13,
     "metadata": {},
     "output_type": "execute_result"
    }
   ],
   "source": [
    "i"
   ]
  },
  {
   "cell_type": "code",
   "execution_count": 14,
   "metadata": {},
   "outputs": [
    {
     "data": {
      "text/plain": [
       "10919712"
      ]
     },
     "execution_count": 14,
     "metadata": {},
     "output_type": "execute_result"
    }
   ],
   "source": [
    "id(i)"
   ]
  },
  {
   "cell_type": "markdown",
   "metadata": {},
   "source": [
    "## Data Types\n",
    "\n",
    "### There are a small set of what are known as primitives. These are basic data types that are determined for us by the interpreter.\n",
    "\n",
    "* boolean - has two possible values, True or False\n",
    "* integer (int) types - for storage of integer values\n",
    "* floating (float) point types - for storage of decimal numbers (i.e. a fractional part after the decimal)\n",
    "* string (str) type used to store strings in memory.\n",
    "* list - are also refered to as arrays that can contain mixed datatypes.\n",
    "* object - user defined types.\n",
    "* Numeric literal determine the type: number written in a program with no decimal point considered integer, otherwise, considered float.\n",
    "* Some operations behave differently depending on data type\n",
    "    A variable in Python can refer to items of any type"
   ]
  },
  {
   "cell_type": "markdown",
   "metadata": {},
   "source": [
    "## Comments\n",
    "\n",
    "* Comments: notes of explanation within a program. <br>&nbsp;Ignored by Python interpreter, its intended for a person reading the program's code.<br>&nbsp;Begin with a # character.<br><code># This is a comment.</code>\n",
    "* End-line comment: appears at the end of a line of code. <br>&nbsp;Typically explains the purpose of that line<br><code>item = 100 # This is an end-line comment.</code>\n"
   ]
  },
  {
   "cell_type": "markdown",
   "metadata": {},
   "source": [
    "## Statements\n",
    "### Statements in Python are made up of:\n",
    "\n",
    "*    **reserved words** - words that have pre-defined meanings in the Java language\n",
    "    \n",
    "*    **identifiers** - words that are created by programmers for names of variables, functions, classes, etc.\n",
    "\n",
    "*    **literals** - literal values written in code, like strings or numbers\n",
    " \n",
    "        integer literal - an actual integer number written in code (4, -10, 18)\n",
    " \n",
    "        float literal - an actual decimal number written in code (4.5, -12.9, 5.0)\n",
    " \n",
    "        character literal - a character in single quotes: ('F', 'a', '\\n')\n",
    "\n",
    "        string literal - a string in double quotes: (\"Hello\", \"Bye\", \"Wow!\\n\")\n",
    " \n",
    "*   **operators** - special symbols that perform certain actions on their operands\n",
    "\n",
    "        A unary operator has one operand\n",
    "\n",
    "        A binary operator has two operands\n",
    "\n",
    "        A ternary operator has three operands (there's only one of these)\n",
    "        \n",
    "*    Calls to methods (functions)\n"
   ]
  },
  {
   "cell_type": "code",
   "execution_count": null,
   "metadata": {},
   "outputs": [],
   "source": []
  }
 ],
 "metadata": {
  "kernelspec": {
   "display_name": "Python 3",
   "language": "python",
   "name": "python3"
  },
  "language_info": {
   "codemirror_mode": {
    "name": "ipython",
    "version": 3
   },
   "file_extension": ".py",
   "mimetype": "text/x-python",
   "name": "python",
   "nbconvert_exporter": "python",
   "pygments_lexer": "ipython3",
   "version": "3.5.2"
  }
 },
 "nbformat": 4,
 "nbformat_minor": 2
}
