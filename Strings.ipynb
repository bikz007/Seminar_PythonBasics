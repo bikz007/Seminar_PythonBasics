{
 "cells": [
  {
   "cell_type": "markdown",
   "metadata": {},
   "source": [
    "# STRING"
   ]
  },
  {
   "cell_type": "markdown",
   "metadata": {},
   "source": [
    "<h4>Almost every useful program involves some kind of text processing, whether it is parsing\n",
    "data or generating output.\n",
    "\n",
    "When programming text is represented by strings.So,</h4>\n",
    "\n",
    "## What is String in Python?\n",
    "### A string is usually a bit of text you want to display to someone, or \"export\" out of the program you are writing. Python knows you want something to be a string when you put either \" (double-quotes) or ' (single-quotes) around the text."
   ]
  },
  {
   "cell_type": "code",
   "execution_count": 1,
   "metadata": {},
   "outputs": [],
   "source": [
    "str1=\"Hello world.This is a string\""
   ]
  },
  {
   "cell_type": "code",
   "execution_count": 2,
   "metadata": {},
   "outputs": [],
   "source": [
    "str2='Hello python.This is a string 2 with single quote'"
   ]
  },
  {
   "cell_type": "code",
   "execution_count": 3,
   "metadata": {},
   "outputs": [
    {
     "data": {
      "text/plain": [
       "'Hello world.This is a string'"
      ]
     },
     "execution_count": 3,
     "metadata": {},
     "output_type": "execute_result"
    }
   ],
   "source": [
    "str1"
   ]
  },
  {
   "cell_type": "code",
   "execution_count": 4,
   "metadata": {},
   "outputs": [
    {
     "data": {
      "text/plain": [
       "'Hello python.This is a string 2 with single quote'"
      ]
     },
     "execution_count": 4,
     "metadata": {},
     "output_type": "execute_result"
    }
   ],
   "source": [
    "str2"
   ]
  },
  {
   "cell_type": "code",
   "execution_count": 5,
   "metadata": {},
   "outputs": [
    {
     "name": "stdout",
     "output_type": "stream",
     "text": [
      "Hello world.This is a string\n"
     ]
    }
   ],
   "source": [
    "#In python we use 'print' function to print the string in console\n",
    "print(str1)"
   ]
  },
  {
   "cell_type": "markdown",
   "metadata": {},
   "source": [
    "<h4>String values can be enclosed in either single or double quotes. The two different\n",
    "kinds of quotes work the same way, but having both allows you to include one kind\n",
    "of quotes inside of a string specified with the other kind of quotes, without needing\n",
    "to escape them with the backslash character:</h4>\n",
    "\n",
    "<code>'isn\\'t that grand'</code>\n",
    "<br>\n",
    "<code>\"isn't that grand\"</code>"
   ]
  },
  {
   "cell_type": "markdown",
   "metadata": {},
   "source": [
    "### The main tool Python gives us to process text is strings—immutable sequences of characters.\n",
    "### There are actually two kinds of strings:\n",
    "    * Plain strings, which contain 8-bit (ASCII) characters\n",
    "    * Unicode strings, which contain Unicode characters"
   ]
  },
  {
   "cell_type": "markdown",
   "metadata": {},
   "source": [
    "<h5><code>str1</code> and <code>str2</code>&nbsp;is an example of plain string</h5><br>"
   ]
  },
  {
   "cell_type": "raw",
   "metadata": {},
   "source": [
    "To have a string literal span multiple lines, we can use a backslash as the last character on the line, which indicates that the next line is a continuation."
   ]
  },
  {
   "cell_type": "code",
   "execution_count": 6,
   "metadata": {},
   "outputs": [],
   "source": [
    "bigstring1 = \"This is a long string\\\n",
    " that spans two lines.\""
   ]
  },
  {
   "cell_type": "code",
   "execution_count": 7,
   "metadata": {},
   "outputs": [
    {
     "name": "stdout",
     "output_type": "stream",
     "text": [
      "This is a long string that spans two lines.\n"
     ]
    }
   ],
   "source": [
    "print(bigstring1)"
   ]
  },
  {
   "cell_type": "raw",
   "metadata": {},
   "source": [
    "We must embed newlines in the string if you want the string to output on two lines:"
   ]
  },
  {
   "cell_type": "code",
   "execution_count": 8,
   "metadata": {},
   "outputs": [],
   "source": [
    "bigstring2 = \"This is a long string\\n\\\n",
    "that prints on two lines.\""
   ]
  },
  {
   "cell_type": "code",
   "execution_count": 9,
   "metadata": {},
   "outputs": [
    {
     "name": "stdout",
     "output_type": "stream",
     "text": [
      "This is a long string\n",
      "that prints on two lines.\n"
     ]
    }
   ],
   "source": [
    "print(bigstring2)"
   ]
  },
  {
   "cell_type": "raw",
   "metadata": {},
   "source": [
    "Another approach is to enclose the string in a pair of matching triple quotes (either\n",
    "single or double):"
   ]
  },
  {
   "cell_type": "code",
   "execution_count": 10,
   "metadata": {},
   "outputs": [],
   "source": [
    "biggerstring = \"\"\"\n",
    "This is an even\n",
    "bigger string that\n",
    "spans three lines.\n",
    "\"\"\""
   ]
  },
  {
   "cell_type": "code",
   "execution_count": 11,
   "metadata": {},
   "outputs": [
    {
     "name": "stdout",
     "output_type": "stream",
     "text": [
      "\n",
      "This is an even\n",
      "bigger string that\n",
      "spans three lines.\n",
      "\n"
     ]
    }
   ],
   "source": [
    "print(biggerstring)"
   ]
  },
  {
   "cell_type": "code",
   "execution_count": 12,
   "metadata": {},
   "outputs": [],
   "source": [
    "#Unicode string\n",
    "hello = u'Hello\\u0020World'"
   ]
  },
  {
   "cell_type": "code",
   "execution_count": 13,
   "metadata": {},
   "outputs": [
    {
     "data": {
      "text/plain": [
       "'Hello World'"
      ]
     },
     "execution_count": 13,
     "metadata": {},
     "output_type": "execute_result"
    }
   ],
   "source": [
    "hello"
   ]
  },
  {
   "cell_type": "markdown",
   "metadata": {},
   "source": [
    "<h5><code>hello</code>&nbsp;is an example of unicode string</h5><h5>We can precede a string literal with a u or U to make it a Unicode\n",
    "string.</h5>"
   ]
  },
  {
   "cell_type": "markdown",
   "metadata": {},
   "source": [
    "## Some string operations"
   ]
  },
  {
   "cell_type": "code",
   "execution_count": 21,
   "metadata": {},
   "outputs": [],
   "source": [
    "hellostring='Hello'\n",
    "worldstring='world'"
   ]
  },
  {
   "cell_type": "code",
   "execution_count": 20,
   "metadata": {},
   "outputs": [
    {
     "data": {
      "text/plain": [
       "'HelloHelloHelloHelloHelloHelloHelloHelloHelloHelloHelloHelloHelloHelloHello'"
      ]
     },
     "execution_count": 20,
     "metadata": {},
     "output_type": "execute_result"
    }
   ],
   "source": [
    "hellostring*15"
   ]
  },
  {
   "cell_type": "code",
   "execution_count": 22,
   "metadata": {},
   "outputs": [],
   "source": [
    "hellostring+=worldstring"
   ]
  },
  {
   "cell_type": "code",
   "execution_count": 23,
   "metadata": {},
   "outputs": [
    {
     "data": {
      "text/plain": [
       "'Helloworld'"
      ]
     },
     "execution_count": 23,
     "metadata": {},
     "output_type": "execute_result"
    }
   ],
   "source": [
    "hellostring"
   ]
  },
  {
   "cell_type": "markdown",
   "metadata": {},
   "source": [
    "<h4>But string is _immutable_ in python</h4>"
   ]
  },
  {
   "cell_type": "markdown",
   "metadata": {},
   "source": [
    "## Some string functions"
   ]
  },
  {
   "cell_type": "code",
   "execution_count": 1,
   "metadata": {},
   "outputs": [],
   "source": [
    "string1=\"Python programming is super easy\""
   ]
  },
  {
   "cell_type": "code",
   "execution_count": 3,
   "metadata": {},
   "outputs": [
    {
     "data": {
      "text/plain": [
       "'PYTHON PROGRAMMING IS SUPER EASY'"
      ]
     },
     "execution_count": 3,
     "metadata": {},
     "output_type": "execute_result"
    }
   ],
   "source": [
    "string1.upper()"
   ]
  },
  {
   "cell_type": "code",
   "execution_count": 4,
   "metadata": {},
   "outputs": [
    {
     "data": {
      "text/plain": [
       "'python programming is super easy'"
      ]
     },
     "execution_count": 4,
     "metadata": {},
     "output_type": "execute_result"
    }
   ],
   "source": [
    "string1.lower()"
   ]
  },
  {
   "cell_type": "code",
   "execution_count": 14,
   "metadata": {
    "scrolled": true
   },
   "outputs": [
    {
     "data": {
      "text/plain": [
       "'B'"
      ]
     },
     "execution_count": 14,
     "metadata": {},
     "output_type": "execute_result"
    }
   ],
   "source": [
    "#strip function\n",
    "#Return a copy of the string S with leading and trailing\n",
    "#    whitespace removed.\n",
    "#   If chars is given and not None, remove characters in chars instead.\n",
    "\n",
    "\"AABAA\".strip(\"A\")"
   ]
  },
  {
   "cell_type": "code",
   "execution_count": 13,
   "metadata": {},
   "outputs": [
    {
     "data": {
      "text/plain": [
       "'C'"
      ]
     },
     "execution_count": 13,
     "metadata": {},
     "output_type": "execute_result"
    }
   ],
   "source": [
    "\"ABCABBA\".strip(\"AB\")"
   ]
  },
  {
   "cell_type": "code",
   "execution_count": 17,
   "metadata": {},
   "outputs": [
    {
     "data": {
      "text/plain": [
       "['blue', 'red', 'green']"
      ]
     },
     "execution_count": 17,
     "metadata": {},
     "output_type": "execute_result"
    }
   ],
   "source": [
    "# S.split(sep=None, maxsplit=-1) -> list of strings\n",
    "    \n",
    "#     Return a list of the words in S, using sep as the\n",
    "#     delimiter string.  If maxsplit is given, at most maxsplit\n",
    "#     splits are done. If sep is not specified or is None, any\n",
    "#     whitespace string is a separator and empty strings are\n",
    "#     removed from the result.\n",
    "\n",
    "x = \"blue,red,green\"\n",
    "x.split(',')"
   ]
  },
  {
   "cell_type": "code",
   "execution_count": null,
   "metadata": {},
   "outputs": [],
   "source": [
    "# S.partition(sep) -> (head, sep, tail)\n",
    "    \n",
    "#     Search for the separator sep in S, and return the part before it,\n",
    "#     the separator itself, and the part after it.  If the separator is not\n",
    "#     found, return S and two empty strings.\n",
    "\n",
    "biggerstring = \"\"\"\n",
    "This is an even\n",
    "bigger string that\n",
    "spans three lines.\n",
    "\"\"\"\n",
    "\n",
    "biggerstring.partition('bigger string')"
   ]
  }
 ],
 "metadata": {
  "kernelspec": {
   "display_name": "Python 3",
   "language": "python",
   "name": "python3"
  },
  "language_info": {
   "codemirror_mode": {
    "name": "ipython",
    "version": 3
   },
   "file_extension": ".py",
   "mimetype": "text/x-python",
   "name": "python",
   "nbconvert_exporter": "python",
   "pygments_lexer": "ipython3",
   "version": "3.5.2"
  }
 },
 "nbformat": 4,
 "nbformat_minor": 2
}
